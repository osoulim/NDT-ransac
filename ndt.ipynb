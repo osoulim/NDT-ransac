{
 "cells": [
  {
   "cell_type": "code",
   "execution_count": 97,
   "metadata": {
    "colab": {},
    "colab_type": "code",
    "id": "cLsdeA2ZQl2b",
    "ExecuteTime": {
     "start_time": "2023-04-19T19:44:45.727233Z",
     "end_time": "2023-04-19T19:44:45.750939Z"
    }
   },
   "outputs": [],
   "source": [
    "import numpy as np\n",
    "import open3d as o3d\n",
    "import matplotlib.pyplot as plt\n",
    "from tqdm.notebook import tqdm"
   ]
  },
  {
   "cell_type": "code",
   "execution_count": 98,
   "metadata": {
    "colab": {},
    "colab_type": "code",
    "id": "R7mksfC4SaGX",
    "ExecuteTime": {
     "start_time": "2023-04-19T20:51:10.012887Z",
     "end_time": "2023-04-19T20:51:13.098648Z"
    }
   },
   "outputs": [],
   "source": [
    "pcd = o3d.io.read_point_cloud(\"models/house.ply\")\n",
    "# o3d.visualization.draw_geometries([pcd])"
   ]
  },
  {
   "cell_type": "code",
   "execution_count": 99,
   "outputs": [
    {
     "data": {
      "text/plain": "array([[-15.8419 ,   4.49058,  -1.4939 ],\n       [-16.0329 ,   3.90658,  -1.5289 ],\n       [-15.6029 ,   3.20558,  -1.5159 ],\n       [-16.2339 ,   2.99658,  -1.5709 ],\n       [-15.9519 ,   2.60458,  -1.5479 ],\n       [-15.5009 ,   2.65258,  -1.4789 ],\n       [-16.0729 ,   2.88058,  -1.5409 ],\n       [-15.3399 ,   4.24058,  -1.4379 ],\n       [-16.2259 ,   2.58558,  -1.5409 ],\n       [-15.8809 ,   4.60458,  -1.4679 ]])"
     },
     "execution_count": 99,
     "metadata": {},
     "output_type": "execute_result"
    }
   ],
   "source": [
    "np.asarray(pcd.points[5000: 5010])"
   ],
   "metadata": {
    "collapsed": false,
    "ExecuteTime": {
     "start_time": "2023-04-19T20:40:56.781714Z",
     "end_time": "2023-04-19T20:40:56.813141Z"
    }
   }
  },
  {
   "cell_type": "code",
   "execution_count": 100,
   "metadata": {
    "colab": {},
    "colab_type": "code",
    "id": "_EcLOnhAVTh5",
    "ExecuteTime": {
     "start_time": "2023-04-19T20:51:15.631633Z",
     "end_time": "2023-04-19T20:51:15.653635Z"
    }
   },
   "outputs": [],
   "source": [
    "pcd = pcd.voxel_down_sample(voxel_size=0.1)\n",
    "point_cloud_in_numpy = np.asarray(pcd.points)"
   ]
  },
  {
   "cell_type": "code",
   "execution_count": 101,
   "outputs": [
    {
     "data": {
      "text/plain": "71118"
     },
     "execution_count": 101,
     "metadata": {},
     "output_type": "execute_result"
    }
   ],
   "source": [
    "len(point_cloud_in_numpy)"
   ],
   "metadata": {
    "collapsed": false,
    "ExecuteTime": {
     "start_time": "2023-04-19T20:51:16.326357Z",
     "end_time": "2023-04-19T20:51:16.365913Z"
    }
   }
  },
  {
   "cell_type": "markdown",
   "metadata": {},
   "source": [
    "# NDT"
   ]
  },
  {
   "cell_type": "code",
   "execution_count": 108,
   "metadata": {
    "ExecuteTime": {
     "start_time": "2023-04-19T20:51:27.621714Z",
     "end_time": "2023-04-19T20:51:27.660539Z"
    }
   },
   "outputs": [],
   "source": [
    "s = 0.3\n",
    "te = 0.04\n",
    "A = point_cloud_in_numpy // s"
   ]
  },
  {
   "cell_type": "code",
   "execution_count": 109,
   "metadata": {
    "ExecuteTime": {
     "start_time": "2023-04-19T20:51:29.050792Z",
     "end_time": "2023-04-19T20:51:35.960485Z"
    }
   },
   "outputs": [
    {
     "data": {
      "text/plain": "<Figure size 1500x500 with 1 Axes>",
      "image/png": "[encoded data removed]"
     },
     "metadata": {},
     "output_type": "display_data"
    }
   ],
   "source": [
    "unique,counts=np.unique(A,axis=0, return_counts=True)\n",
    "plt.figure(figsize=(15,5))\n",
    "plt.bar(range(0, len(counts)), counts, width=1.5, color='g')\n",
    "plt.show()"
   ]
  },
  {
   "cell_type": "code",
   "execution_count": 110,
   "metadata": {
    "ExecuteTime": {
     "start_time": "2023-04-19T20:51:43.175810Z",
     "end_time": "2023-04-19T20:51:43.191346Z"
    }
   },
   "outputs": [],
   "source": [
    "def IRLS_find_norm(points, cov):\n",
    "    lambd, e = np.linalg.eig(cov)\n",
    "    e = e.T\n",
    "    o = lambd.argsort()\n",
    "    lambd = lambd[o]\n",
    "    e = e[o]\n",
    "    gamma = 1e-6\n",
    "    k_w = 2.985\n",
    "    n = e[0]\n",
    "    g = np.mean(points, axis = 0)\n",
    "    X_prev = np.zeros(3)\n",
    "    for i in range(100):\n",
    "        n_old = n\n",
    "        r = (points - g) @ n\n",
    "        w = np.exp(-(r ** 2 / k_w ** 2))\n",
    "        X_k = np.average(points - g - X_prev, axis=0, weights=w)\n",
    "        vec = (points - g - X_k)\n",
    "        X_prev = X_k\n",
    "        C = (vec.T * w) @ vec\n",
    "        w, v = np.linalg.eig(C)\n",
    "        v = v.T\n",
    "        o = w.argsort()\n",
    "        w = w[o]\n",
    "        v = v[o]\n",
    "        n = v[0]\n",
    "        convg = np.linalg.norm(n_old - n) / np.linalg.norm(n_old)\n",
    "        if convg < gamma:\n",
    "            break\n",
    "    return n"
   ]
  },
  {
   "cell_type": "code",
   "execution_count": 111,
   "metadata": {
    "ExecuteTime": {
     "start_time": "2023-04-19T20:51:46.199983Z",
     "end_time": "2023-04-19T20:52:43.878434Z"
    }
   },
   "outputs": [
    {
     "data": {
      "text/plain": "  0%|          | 0/6160 [00:00<?, ?it/s]",
      "application/vnd.jupyter.widget-view+json": {
       "version_major": 2,
       "version_minor": 0,
       "model_id": "6287c36f029f4d7787dec0a04203acac"
      }
     },
     "metadata": {},
     "output_type": "display_data"
    }
   ],
   "source": [
    "mu = []\n",
    "normals = []\n",
    "Q = []\n",
    "Q_points = []\n",
    "P = []\n",
    "for ind, i in tqdm(list(enumerate(unique))):\n",
    "    this_cell = np.array(point_cloud_in_numpy[np.where(np.prod(A == i, axis = -1))])\n",
    "    if len(this_cell) <= 3:\n",
    "        P.append(this_cell)\n",
    "        continue\n",
    "    mu.append(np.mean(this_cell))\n",
    "    cov = np.cov(np.array(this_cell).T)\n",
    "    #print(\"cov = \", cov)\n",
    "    w, v = np.linalg.eig(cov)\n",
    "    v = v.T\n",
    "    o = w.argsort()\n",
    "    w = w[o]\n",
    "    v = v[o]\n",
    "    #print(\"values = \", w)\n",
    "    if abs(w[0] / w[1]) <= te:\n",
    "        Q.append(i)\n",
    "        Q_points.append(this_cell)\n",
    "        normals.append(IRLS_find_norm(this_cell, cov))\n",
    "    else:\n",
    "        P.append(this_cell)\n",
    "P = np.concatenate(P)"
   ]
  },
  {
   "cell_type": "code",
   "execution_count": 112,
   "outputs": [
    {
     "data": {
      "text/plain": "2535"
     },
     "execution_count": 112,
     "metadata": {},
     "output_type": "execute_result"
    }
   ],
   "source": [
    "len(Q)"
   ],
   "metadata": {
    "collapsed": false,
    "ExecuteTime": {
     "start_time": "2023-04-19T20:41:40.846768Z",
     "end_time": "2023-04-19T20:41:40.871577Z"
    }
   }
  },
  {
   "cell_type": "code",
   "execution_count": 113,
   "outputs": [],
   "source": [
    "Q_indices = {}\n",
    "for index, cell_index in enumerate(Q):\n",
    "    Q_indices[tuple(cell_index)] = index"
   ],
   "metadata": {
    "collapsed": false,
    "ExecuteTime": {
     "start_time": "2023-04-19T20:53:07.622581Z",
     "end_time": "2023-04-19T20:53:07.670217Z"
    }
   }
  },
  {
   "cell_type": "code",
   "execution_count": 114,
   "metadata": {
    "ExecuteTime": {
     "start_time": "2023-04-19T20:53:10.002249Z",
     "end_time": "2023-04-19T20:53:10.021239Z"
    }
   },
   "outputs": [
    {
     "name": "stdout",
     "output_type": "stream",
     "text": [
      "[-55.   8.  -6.]\n",
      "(2535, 3) 2535\n"
     ]
    }
   ],
   "source": [
    "# Q_points = np.array(Q_points)\n",
    "normals = np.array(normals)\n",
    "print(Q[0])\n",
    "print(np.shape(normals), len(Q_points))"
   ]
  },
  {
   "cell_type": "code",
   "execution_count": 115,
   "outputs": [],
   "source": [
    "def create_circle_mesh(center, normal, radius, num_points=12):\n",
    "    mesh = o3d.geometry.TriangleMesh()\n",
    "    x_axis = np.array([1, 0, 0])\n",
    "    if np.abs(normal.dot(x_axis)) < 0.1:\n",
    "        x_axis = np.array([0, 1, 0])\n",
    "    u = np.cross(normal, x_axis)\n",
    "    u = u / np.linalg.norm(u)\n",
    "    v = np.cross(normal, u)\n",
    "    v = v / np.linalg.norm(v)\n",
    "\n",
    "    # Generate points on a circle in 2D coordinates\n",
    "    angles = np.linspace(0, 2*np.pi, num_points+1)[:-1]\n",
    "    points_2d = radius * np.column_stack((np.cos(angles), np.sin(angles)))\n",
    "\n",
    "    # Convert points to 3D coordinates\n",
    "    circle_points = [center + points_2d[i,0]*u + points_2d[i,1]*v for i in range(num_points)]\n",
    "\n",
    "    mesh.vertices = o3d.utility.Vector3dVector(circle_points)\n",
    "    mesh.vertices.append(center)\n",
    "\n",
    "    # Add faces connecting center to circle points\n",
    "    for i in range(num_points):\n",
    "        face = [i, (i+1) % num_points, num_points]\n",
    "        mesh.triangles.append(face)\n",
    "        face = [(i+1) % num_points, i, num_points]\n",
    "        mesh.triangles.append(face)\n",
    "\n",
    "\n",
    "    mesh.compute_vertex_normals()\n",
    "    return mesh"
   ],
   "metadata": {
    "collapsed": false,
    "ExecuteTime": {
     "start_time": "2023-04-19T19:47:54.228742Z",
     "end_time": "2023-04-19T19:47:54.244304Z"
    }
   }
  },
  {
   "cell_type": "code",
   "execution_count": 116,
   "outputs": [],
   "source": [
    "color = [1.0, 0.5, 0.0] # orange color\n",
    "threshold = 0.3\n",
    "radius = s / 3\n",
    "neighbors = [[1, 0, 0], [-1, 0, 0], [0, 1, 0], [0, -1, 0], [0, 0, 1], [0, 0, -1]]\n"
   ],
   "metadata": {
    "collapsed": false,
    "ExecuteTime": {
     "start_time": "2023-04-19T20:53:13.268527Z",
     "end_time": "2023-04-19T20:53:13.284928Z"
    }
   }
  },
  {
   "cell_type": "code",
   "execution_count": 117,
   "outputs": [],
   "source": [
    "meshes = []\n",
    "for i in range(len(Q_points)):\n",
    "    center = np.mean(Q_points[i], axis=0)\n",
    "    normal = normals[i]\n",
    "    mesh = create_circle_mesh(center, normal, radius, num_points=12)\n",
    "    mesh.paint_uniform_color(color)\n",
    "    meshes.append(mesh)\n",
    "\n",
    "o3d.visualization.draw_geometries(meshes)"
   ],
   "metadata": {
    "collapsed": false,
    "ExecuteTime": {
     "start_time": "2023-04-19T20:53:15.717695Z",
     "end_time": "2023-04-19T20:53:48.503693Z"
    }
   }
  },
  {
   "cell_type": "code",
   "execution_count": 118,
   "outputs": [],
   "source": [
    "meshes = []\n",
    "for i in range(len(Q_points)):\n",
    "    center = np.mean(Q_points[i], axis=0)\n",
    "    normal = normals[i]\n",
    "\n",
    "    for neigh_move in neighbors:\n",
    "        neigh_cell_index = tuple((center // s) + neigh_move)\n",
    "        if neigh_cell_index not in Q_indices:\n",
    "            continue\n",
    "\n",
    "        index = Q_indices[neigh_cell_index]\n",
    "        neighbor, neighbor_normal = np.mean(Q_points[index], axis=0), normals[index]\n",
    "        angle = np.arccos(np.dot(normal, neighbor_normal))\n",
    "        if angle < threshold:\n",
    "            line_set = o3d.geometry.LineSet()\n",
    "            line_set.points = o3d.utility.Vector3dVector([center, neighbor])\n",
    "            line_set.lines = o3d.utility.Vector2iVector([[0, 1]])\n",
    "            line_set.colors = o3d.utility.Vector3dVector([color])\n",
    "            meshes.append(line_set)\n",
    "\n",
    "# meshes.append(pcd)\n",
    "o3d.visualization.draw_geometries(meshes)"
   ],
   "metadata": {
    "collapsed": false,
    "ExecuteTime": {
     "start_time": "2023-04-19T20:53:51.351751Z",
     "end_time": "2023-04-19T20:54:39.809917Z"
    }
   }
  },
  {
   "cell_type": "code",
   "execution_count": 119,
   "outputs": [],
   "source": [
    "Q_old = Q\n",
    "P_old = P\n",
    "Q_points_old = Q_points\n",
    "normals_old = normals"
   ],
   "metadata": {
    "collapsed": false
   }
  },
  {
   "cell_type": "markdown",
   "source": [
    "# RANSAC"
   ],
   "metadata": {
    "collapsed": false
   }
  },
  {
   "cell_type": "code",
   "execution_count": 120,
   "outputs": [],
   "source": [
    "def get_remained_array(arr, bool_mask):\n",
    "    if len(arr) != len(bool_mask):\n",
    "        raise ValueError(\"Array and boolean mask should have the same size: %d != %d\" % (len(arr), len(bool_mask)))\n",
    "\n",
    "    result = []\n",
    "    for i, value in enumerate(bool_mask):\n",
    "        if not value:\n",
    "            continue\n",
    "        result.append(arr[i])\n",
    "    return result"
   ],
   "metadata": {
    "collapsed": false
   }
  },
  {
   "cell_type": "code",
   "execution_count": 121,
   "outputs": [],
   "source": [
    "def plane(Q, P, Q_points, normals):\n",
    "    k_max = 50\n",
    "    nu = 0.95\n",
    "    delta_d = 0.4\n",
    "    n = 0\n",
    "    delta_theta = 0.25\n",
    "    k = 0\n",
    "    Psi = np.zeros(len(Q), dtype=bool)\n",
    "    Psi_size = 0\n",
    "    Psi_points = []\n",
    "    k = 1\n",
    "    while k < k_max:\n",
    "        c = np.random.choice(range(0, len(Q)))\n",
    "        cell = Q[c]\n",
    "        points = Q_points[c]\n",
    "        gk = np.mean(points, axis=0)\n",
    "        nk = normals[c]\n",
    "        Ik = np.zeros(len(Q), dtype=bool)\n",
    "        cnt = 0\n",
    "        Ik_points = []\n",
    "        for i, v in enumerate(Q):\n",
    "            g_i = np.mean(Q_points[i], axis=0)\n",
    "            n_i = normals[i]\n",
    "            d_i = np.dot((g_i - gk), nk) / np.linalg.norm(nk)\n",
    "            theta_i = 1 - np.abs(np.dot(nk, n_i)) / (np.linalg.norm(nk) * np.linalg.norm(n_i))\n",
    "            if np.abs(d_i) < delta_d and theta_i < delta_theta:\n",
    "                Ik[i] = True\n",
    "                cnt += 1\n",
    "                Ik_points.extend(Q_points[i])\n",
    "        if cnt > Psi_size:\n",
    "            Psi = Ik\n",
    "            Psi_points = Ik_points\n",
    "            Psi_size = cnt\n",
    "            n = nk\n",
    "            g = gk\n",
    "            Pn = Psi_size / len(Q)\n",
    "            k_max = int(np.ceil(np.log(1 - nu) / np.log(1 - Pn)))\n",
    "        k += 1\n",
    "\n",
    "    P_mask = np.zeros(len(P), dtype=bool)\n",
    "    for j, i in enumerate(P):\n",
    "        d_i = np.inner(i - g, n) / np.linalg.norm(n)\n",
    "        if np.abs(d_i) < delta_d:\n",
    "            P_mask[j] = True\n",
    "            Psi_points.append(i)\n",
    "    return n, g, np.array(Psi_points), get_remained_array(Q, ~Psi), get_remained_array(Q_points, ~Psi), get_remained_array(P, ~P_mask), get_remained_array(normals, ~Psi)"
   ],
   "metadata": {
    "collapsed": false
   }
  },
  {
   "cell_type": "code",
   "execution_count": 122,
   "outputs": [
    {
     "data": {
      "text/plain": "  0%|          | 0/100 [00:00<?, ?it/s]",
      "application/vnd.jupyter.widget-view+json": {
       "version_major": 2,
       "version_minor": 0,
       "model_id": "ee057fdc84a24c4e9820202b17bba3a2"
      }
     },
     "metadata": {},
     "output_type": "display_data"
    },
    {
     "name": "stdout",
     "output_type": "stream",
     "text": [
      "[0.01781653 0.03791323 0.99912219]\n",
      "25319\n",
      "-0.5505858181818182 -1.6494\n",
      "[0.01114046 0.0064865  0.9999169 ]\n",
      "7611\n",
      "-0.15543525000000002 -0.882904\n",
      "[-9.52282728e-01  3.05216966e-01 -4.56828689e-04]\n",
      "5043\n",
      "1.9461 -1.3643800000000001\n",
      "[-0.95710512  0.2682909   0.10940653]\n",
      "6583\n",
      "1.9471 -1.1920111111111111\n",
      "[-0.27983694 -0.96003652 -0.00460071]\n",
      "4142\n",
      "1.9461 -1.3942333333333332\n",
      "[-0.31610446 -0.9486008   0.01531332]\n",
      "4453\n",
      "1.9462578947368423 -1.4707309859154936\n",
      "[-0.04952288 -0.02070424 -0.99855837]\n",
      "1519\n",
      "-1.2049344827586208 -1.5269000000000001\n",
      "[-0.04725836  0.01269444  0.99880203]\n",
      "4159\n",
      "0.552596 -0.2714616923076923\n",
      "[-0.94279441  0.31323365  0.11411999]\n",
      "2176\n",
      "1.9461 -0.5912116923076922\n",
      "[-2.84598805e-01 -9.58646487e-01 -6.58515904e-04]\n",
      "3060\n",
      "1.9471 -0.8450468571428571\n",
      "[ 0.08478481 -0.00345051  0.99639331]\n",
      "1588\n",
      "1.9471 1.0964548387096775\n",
      "[-0.96923179  0.24593011 -0.01039812]\n",
      "979\n",
      "1.9196428571428572 -0.5457611428571428\n",
      "[0.00585549 0.10121167 0.99484768]\n",
      "1544\n",
      "1.4766135135135137 0.1357997037037037\n",
      "[-0.11210214 -0.99299865  0.03723967]\n",
      "451\n",
      "1.7291 -1.3285666666666667\n",
      "[ 0.97543813 -0.2063959  -0.07694921]\n",
      "179\n",
      "1.49085 -0.5792558518518517\n",
      "[-0.96489327  0.26209462  0.01695222]\n",
      "407\n",
      "1.91665 -0.6404628235294119\n",
      "[-0.97859018  0.19101993 -0.07663314]\n",
      "154\n",
      "1.7343739726027392 -0.575604\n",
      "[-0.28531444 -0.95843108  0.0023515 ]\n",
      "162\n",
      "1.7422111111111114 -0.6517817777777776\n",
      "[-0.13246654  0.13073277  0.98252815]\n",
      "610\n",
      "-1.2034 -1.6061\n",
      "[ 0.1027637  -0.98673056 -0.12570771]\n",
      "103\n",
      "1.2969000000000002 -0.5725510588235294\n",
      "[-0.16645768 -0.98199113 -0.08936032]\n",
      "98\n",
      "1.9421 -0.8861040000000001\n",
      "[Open3D WARNING] GLFW Error: WGL: Failed to make context current: The handle is invalid. \n"
     ]
    }
   ],
   "source": [
    "new_pcd = o3d.geometry.PointCloud()\n",
    "\n",
    "Q = Q_old\n",
    "P = P_old\n",
    "Q_points = Q_points_old\n",
    "normals = normals_old\n",
    "\n",
    "planes_points = np.zeros((0, 3))\n",
    "planes_colors = np.zeros((0, 3))\n",
    "planes_normals = np.zeros((0, 3))\n",
    "final_f = []\n",
    "\n",
    "for i in tqdm(range(100)):\n",
    "    n, g, Psi_points, Q, Q_points, P, normals = plane(Q, P, Q_points, normals)\n",
    "    print(n)\n",
    "#     print(g)\n",
    "    print(len(Psi_points))\n",
    "    print(max(Psi_points[:, 2]), min(Psi_points[:, 2]))\n",
    "    if len(Psi_points) < 100:\n",
    "        break\n",
    "    planes_points = np.concatenate((planes_points, Psi_points))\n",
    "    planes_colors = np.concatenate((planes_colors, np.repeat(np.random.random(3).reshape(1, 3), len(Psi_points), axis = 0)))\n",
    "    planes_normals_normals = np.concatenate((planes_normals, [n] * len(Psi_points)))\n",
    "\n",
    "new_pcd.points = o3d.utility.Vector3dVector(planes_points)\n",
    "new_pcd.colors = o3d.utility.Vector3dVector(planes_colors)\n",
    "o3d.visualization.draw_geometries([new_pcd])"
   ],
   "metadata": {
    "collapsed": false
   }
  },
  {
   "cell_type": "code",
   "execution_count": 123,
   "outputs": [
    {
     "data": {
      "text/plain": "True"
     },
     "execution_count": 123,
     "metadata": {},
     "output_type": "execute_result"
    }
   ],
   "source": [
    "o3d.io.write_point_cloud(\"models/house_ndt_result.ply\", new_pcd)"
   ],
   "metadata": {
    "collapsed": false
   }
  },
  {
   "cell_type": "code",
   "execution_count": 124,
   "outputs": [],
   "source": [
    "retrieved_pcd = o3d.io.read_point_cloud(\"models/house_ndt_result.ply\")\n",
    "o3d.visualization.draw_geometries([retrieved_pcd])"
   ],
   "metadata": {
    "collapsed": false
   }
  }
 ],
 "metadata": {
  "celltoolbar": "Raw Cell Format",
  "colab": {
   "name": "Untitled2.ipynb",
   "provenance": []
  },
  "kernelspec": {
   "display_name": "Python 3",
   "language": "python",
   "name": "python3"
  },
  "language_info": {
   "codemirror_mode": {
    "name": "ipython",
    "version": 2
   },
   "file_extension": ".py",
   "mimetype": "text/x-python",
   "name": "python",
   "nbconvert_exporter": "python",
   "pygments_lexer": "ipython2",
   "version": "2.7.16"
  }
 },
 "nbformat": 4,
 "nbformat_minor": 1
}
