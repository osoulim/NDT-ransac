{
 "cells": [
  {
   "cell_type": "code",
   "execution_count": 3,
   "metadata": {
    "colab": {},
    "colab_type": "code",
    "id": "cLsdeA2ZQl2b",
    "ExecuteTime": {
     "start_time": "2023-04-19T19:44:45.727233Z",
     "end_time": "2023-04-19T19:44:45.750939Z"
    }
   },
   "outputs": [],
   "source": [
    "import numpy as np\n",
    "import open3d as o3d\n",
    "import matplotlib.pyplot as plt\n",
    "import math\n",
    "import scipy\n",
    "from tqdm.notebook import tqdm"
   ]
  },
  {
   "cell_type": "code",
   "execution_count": 84,
   "metadata": {
    "colab": {},
    "colab_type": "code",
    "id": "R7mksfC4SaGX",
    "ExecuteTime": {
     "start_time": "2023-04-19T20:51:10.012887Z",
     "end_time": "2023-04-19T20:51:13.098648Z"
    }
   },
   "outputs": [],
   "source": [
    "pcd = o3d.io.read_point_cloud(\"models/Carola.ply\")\n",
    "o3d.visualization.draw_geometries([pcd])"
   ]
  },
  {
   "cell_type": "code",
   "execution_count": 73,
   "outputs": [
    {
     "data": {
      "text/plain": "array([[ 0.58325648, -8.3922863 ,  3.3641181 ],\n       [-0.26547742, -8.55193806,  3.67780542],\n       [ 0.75686646, -8.16636086,  3.36230254],\n       [ 0.77507436, -8.1403513 ,  3.39328265],\n       [ 0.76654267, -8.16069794,  3.36726594],\n       [-0.28504497, -8.4440136 ,  3.71138024],\n       [-0.37742364, -8.43933201,  3.67859793],\n       [ 0.58494782, -8.39383793,  3.36148787],\n       [-0.38121963, -8.41050529,  3.69697046],\n       [-0.25907677, -8.56754684,  3.69704413]])"
     },
     "execution_count": 73,
     "metadata": {},
     "output_type": "execute_result"
    }
   ],
   "source": [
    "np.asarray(pcd.points[5000: 5010])"
   ],
   "metadata": {
    "collapsed": false,
    "ExecuteTime": {
     "start_time": "2023-04-19T20:40:56.781714Z",
     "end_time": "2023-04-19T20:40:56.813141Z"
    }
   }
  },
  {
   "cell_type": "code",
   "execution_count": 85,
   "metadata": {
    "colab": {},
    "colab_type": "code",
    "id": "_EcLOnhAVTh5",
    "ExecuteTime": {
     "start_time": "2023-04-19T20:51:15.631633Z",
     "end_time": "2023-04-19T20:51:15.653635Z"
    }
   },
   "outputs": [],
   "source": [
    "pcd = pcd.voxel_down_sample(voxel_size=0.05)\n",
    "point_cloud_in_numpy = np.asarray(pcd.points)"
   ]
  },
  {
   "cell_type": "code",
   "execution_count": 86,
   "outputs": [
    {
     "data": {
      "text/plain": "array([[ 0.66777837,  2.76816273,  1.7045387 ],\n       [ 0.67913417,  2.94775915,  1.8034205 ],\n       [ 1.472417  ,  2.73928595,  1.05046499],\n       ...,\n       [ 0.03705714,  3.53597238,  3.58337423],\n       [-0.60988016,  4.67695176,  0.92950135],\n       [-0.04206671,  9.88686371,  0.42606627]])"
     },
     "execution_count": 86,
     "metadata": {},
     "output_type": "execute_result"
    }
   ],
   "source": [
    "point_cloud_in_numpy"
   ],
   "metadata": {
    "collapsed": false,
    "ExecuteTime": {
     "start_time": "2023-04-19T20:51:16.326357Z",
     "end_time": "2023-04-19T20:51:16.365913Z"
    }
   }
  },
  {
   "cell_type": "markdown",
   "metadata": {},
   "source": [
    "# NDT"
   ]
  },
  {
   "cell_type": "code",
   "execution_count": 87,
   "metadata": {
    "ExecuteTime": {
     "start_time": "2023-04-19T20:51:27.621714Z",
     "end_time": "2023-04-19T20:51:27.660539Z"
    }
   },
   "outputs": [],
   "source": [
    "s = 0.3\n",
    "te = 0.04\n",
    "A = point_cloud_in_numpy // s"
   ]
  },
  {
   "cell_type": "code",
   "execution_count": 88,
   "metadata": {
    "ExecuteTime": {
     "start_time": "2023-04-19T20:51:29.050792Z",
     "end_time": "2023-04-19T20:51:35.960485Z"
    }
   },
   "outputs": [
    {
     "data": {
      "text/plain": "<Figure size 1500x500 with 1 Axes>",
      "image/png": "[encoded data removed]"
     },
     "metadata": {},
     "output_type": "display_data"
    }
   ],
   "source": [
    "unique,counts=np.unique(A,axis=0, return_counts=True)\n",
    "plt.figure(figsize=(15,5))\n",
    "plt.bar(range(0, len(counts)), counts, width=1.5, color='g')\n",
    "plt.show()"
   ]
  },
  {
   "cell_type": "code",
   "execution_count": 89,
   "metadata": {
    "ExecuteTime": {
     "start_time": "2023-04-19T20:51:43.175810Z",
     "end_time": "2023-04-19T20:51:43.191346Z"
    }
   },
   "outputs": [],
   "source": [
    "def IRLS_find_norm(points, cov):\n",
    "    lambd, e = np.linalg.eig(cov)\n",
    "    e = e.T\n",
    "    o = lambd.argsort()\n",
    "    lambd = lambd[o]\n",
    "    e = e[o]\n",
    "    gamma = 1e-6\n",
    "    k_w = 2.985\n",
    "    n = e[0]\n",
    "    g = np.mean(points, axis = 0)\n",
    "    X_prev = np.zeros(3)\n",
    "    for i in range(100):\n",
    "        n_old = n\n",
    "        r = (points - g) @ n\n",
    "        w = np.exp(-(r ** 2 / k_w ** 2))\n",
    "        X_k = np.average(points - g - X_prev, axis=0, weights=w)\n",
    "        vec = (points - g - X_k)\n",
    "        X_prev = X_k\n",
    "        C = (vec.T * w) @ vec\n",
    "        w, v = np.linalg.eig(C)\n",
    "        v = v.T\n",
    "        o = w.argsort()\n",
    "        w = w[o]\n",
    "        v = v[o]\n",
    "        n = v[0]\n",
    "        convg = np.linalg.norm(n_old - n) / np.linalg.norm(n_old)\n",
    "        if convg < gamma:\n",
    "            break\n",
    "    return n"
   ]
  },
  {
   "cell_type": "code",
   "execution_count": 90,
   "metadata": {
    "ExecuteTime": {
     "start_time": "2023-04-19T20:51:46.199983Z",
     "end_time": "2023-04-19T20:52:43.878434Z"
    }
   },
   "outputs": [
    {
     "data": {
      "text/plain": "  0%|          | 0/7114 [00:00<?, ?it/s]",
      "application/vnd.jupyter.widget-view+json": {
       "version_major": 2,
       "version_minor": 0,
       "model_id": "916a0c0f58bd4ce7bc5bd05a3fd54755"
      }
     },
     "metadata": {},
     "output_type": "display_data"
    }
   ],
   "source": [
    "mu = []\n",
    "normals = []\n",
    "Q = []\n",
    "Q_points = []\n",
    "P = []\n",
    "for ind, i in tqdm(list(enumerate(unique))):\n",
    "    this_cell = np.array(point_cloud_in_numpy[np.where(np.prod(A == i, axis = -1))])\n",
    "    if len(this_cell) <= 3:\n",
    "        P.append(this_cell)\n",
    "        continue\n",
    "    mu.append(np.mean(this_cell))\n",
    "    cov = np.cov(np.array(this_cell).T)\n",
    "    #print(\"cov = \", cov)\n",
    "    w, v = np.linalg.eig(cov)\n",
    "    v = v.T\n",
    "    o = w.argsort()\n",
    "    w = w[o]\n",
    "    v = v[o]\n",
    "    #print(\"values = \", w)\n",
    "    if abs(w[0] / w[1]) <= te:\n",
    "        Q.append(i)\n",
    "        Q_points.append(this_cell)\n",
    "        normals.append(IRLS_find_norm(this_cell, cov))\n",
    "    else:\n",
    "        P.append(this_cell)\n",
    "P = np.concatenate(P)"
   ]
  },
  {
   "cell_type": "code",
   "execution_count": 79,
   "outputs": [
    {
     "data": {
      "text/plain": "894"
     },
     "execution_count": 79,
     "metadata": {},
     "output_type": "execute_result"
    }
   ],
   "source": [
    "len(Q)"
   ],
   "metadata": {
    "collapsed": false,
    "ExecuteTime": {
     "start_time": "2023-04-19T20:41:40.846768Z",
     "end_time": "2023-04-19T20:41:40.871577Z"
    }
   }
  },
  {
   "cell_type": "code",
   "execution_count": 91,
   "outputs": [],
   "source": [
    "Q_indices = {}\n",
    "for index, cell_index in enumerate(Q):\n",
    "    Q_indices[tuple(cell_index)] = index"
   ],
   "metadata": {
    "collapsed": false,
    "ExecuteTime": {
     "start_time": "2023-04-19T20:53:07.622581Z",
     "end_time": "2023-04-19T20:53:07.670217Z"
    }
   }
  },
  {
   "cell_type": "code",
   "execution_count": 92,
   "metadata": {
    "ExecuteTime": {
     "start_time": "2023-04-19T20:53:10.002249Z",
     "end_time": "2023-04-19T20:53:10.021239Z"
    }
   },
   "outputs": [
    {
     "name": "stdout",
     "output_type": "stream",
     "text": [
      "[ -8. -31.   0.]\n",
      "(3016, 3) 3016\n"
     ]
    }
   ],
   "source": [
    "# Q_points = np.array(Q_points)\n",
    "normals = np.array(normals)\n",
    "print(Q[0])\n",
    "print(np.shape(normals), len(Q_points))"
   ]
  },
  {
   "cell_type": "code",
   "execution_count": 13,
   "outputs": [],
   "source": [
    "def create_circle_mesh(center, normal, radius, num_points=12):\n",
    "    mesh = o3d.geometry.TriangleMesh()\n",
    "    x_axis = np.array([1, 0, 0])\n",
    "    if np.abs(normal.dot(x_axis)) < 0.1:\n",
    "        x_axis = np.array([0, 1, 0])\n",
    "    u = np.cross(normal, x_axis)\n",
    "    u = u / np.linalg.norm(u)\n",
    "    v = np.cross(normal, u)\n",
    "    v = v / np.linalg.norm(v)\n",
    "\n",
    "    # Generate points on a circle in 2D coordinates\n",
    "    angles = np.linspace(0, 2*np.pi, num_points+1)[:-1]\n",
    "    points_2d = radius * np.column_stack((np.cos(angles), np.sin(angles)))\n",
    "\n",
    "    # Convert points to 3D coordinates\n",
    "    circle_points = [center + points_2d[i,0]*u + points_2d[i,1]*v for i in range(num_points)]\n",
    "\n",
    "    mesh.vertices = o3d.utility.Vector3dVector(circle_points)\n",
    "    mesh.vertices.append(center)\n",
    "\n",
    "    # Add faces connecting center to circle points\n",
    "    for i in range(num_points):\n",
    "        face = [i, (i+1) % num_points, num_points]\n",
    "        mesh.triangles.append(face)\n",
    "        face = [(i+1) % num_points, i, num_points]\n",
    "        mesh.triangles.append(face)\n",
    "\n",
    "\n",
    "    mesh.compute_vertex_normals()\n",
    "    return mesh"
   ],
   "metadata": {
    "collapsed": false,
    "ExecuteTime": {
     "start_time": "2023-04-19T19:47:54.228742Z",
     "end_time": "2023-04-19T19:47:54.244304Z"
    }
   }
  },
  {
   "cell_type": "code",
   "execution_count": 93,
   "outputs": [],
   "source": [
    "color = [1.0, 0.5, 0.0] # orange color\n",
    "threshold = 0.4\n",
    "radius = s / 3\n",
    "neighbors = [[1, 0, 0], [-1, 0, 0], [0, 1, 0], [0, -1, 0], [0, 0, 1], [0, 0, -1]]\n"
   ],
   "metadata": {
    "collapsed": false,
    "ExecuteTime": {
     "start_time": "2023-04-19T20:53:13.268527Z",
     "end_time": "2023-04-19T20:53:13.284928Z"
    }
   }
  },
  {
   "cell_type": "code",
   "execution_count": 94,
   "outputs": [],
   "source": [
    "meshes = []\n",
    "for i in range(len(Q_points)):\n",
    "    center = np.mean(Q_points[i], axis=0)\n",
    "    normal = normals[i]\n",
    "    mesh = create_circle_mesh(center, normal, radius, num_points=12)\n",
    "    mesh.paint_uniform_color(color)\n",
    "    meshes.append(mesh)\n",
    "\n",
    "o3d.visualization.draw_geometries(meshes)"
   ],
   "metadata": {
    "collapsed": false,
    "ExecuteTime": {
     "start_time": "2023-04-19T20:53:15.717695Z",
     "end_time": "2023-04-19T20:53:48.503693Z"
    }
   }
  },
  {
   "cell_type": "code",
   "execution_count": 95,
   "outputs": [],
   "source": [
    "meshes = []\n",
    "for i in range(len(Q_points)):\n",
    "    center = np.mean(Q_points[i], axis=0)\n",
    "    normal = normals[i]\n",
    "\n",
    "    for neigh_move in neighbors:\n",
    "        neigh_cell_index = tuple((center // s) + neigh_move)\n",
    "        if neigh_cell_index not in Q_indices:\n",
    "            continue\n",
    "\n",
    "        index = Q_indices[neigh_cell_index]\n",
    "        neighbor, neighbor_normal = np.mean(Q_points[index], axis=0), normals[index]\n",
    "        angle = np.arccos(np.dot(normal, neighbor_normal))\n",
    "        if angle < threshold:\n",
    "            line_set = o3d.geometry.LineSet()\n",
    "            line_set.points = o3d.utility.Vector3dVector([center, neighbor])\n",
    "            line_set.lines = o3d.utility.Vector2iVector([[0, 1]])\n",
    "            line_set.colors = o3d.utility.Vector3dVector([color])\n",
    "            meshes.append(line_set)\n",
    "\n",
    "# meshes.append(pcd)\n",
    "o3d.visualization.draw_geometries(meshes)"
   ],
   "metadata": {
    "collapsed": false,
    "ExecuteTime": {
     "start_time": "2023-04-19T20:53:51.351751Z",
     "end_time": "2023-04-19T20:54:39.809917Z"
    }
   }
  },
  {
   "cell_type": "markdown",
   "metadata": {},
   "source": [
    "# RANSAC"
   ]
  },
  {
   "cell_type": "code",
   "execution_count": 48,
   "outputs": [],
   "source": [
    "def plane(Q, P, Q_points, normals):\n",
    "    k_max = 50\n",
    "    nu = 0.95\n",
    "    delta_d = 0.08\n",
    "    n = 0\n",
    "    delta_theta = 0.25\n",
    "    k = 0\n",
    "    Psi = np.zeros(len(Q), dtype=bool)\n",
    "    Psi_size = 0\n",
    "    Psi_points = []\n",
    "    k = 1\n",
    "    while k < k_max:\n",
    "        c = np.random.choice(range(0, len(Q)))\n",
    "        cell = Q[c]\n",
    "        points = Q_points[c]\n",
    "        gk = np.mean(points, axis=0)\n",
    "        nk = normals[c]\n",
    "        Ik = np.zeros(len(Q), dtype=bool)\n",
    "        cnt = 0\n",
    "        Ik_points = []\n",
    "        for i, v in enumerate(Q):\n",
    "            g_i = np.mean(Q_points[i], axis=0)\n",
    "            n_i = normals[i]\n",
    "            d_i = np.dot((g_i - gk), nk) / np.linalg.norm(nk)\n",
    "            theta_i = 1 - np.abs(np.dot(nk, n_i)) / (np.linalg.norm(nk) * np.linalg.norm(n_i))\n",
    "            if np.abs(d_i) < delta_d and theta_i < delta_theta:\n",
    "                Ik[i] = True\n",
    "                cnt += 1\n",
    "                Ik_points += Q_points[i]\n",
    "        if cnt > Psi_size:\n",
    "            Psi = Ik\n",
    "            Psi_points = Ik_points\n",
    "            Psi_size = cnt\n",
    "            n = nk\n",
    "            g = gk\n",
    "            Pn = Psi_size / len(Q)\n",
    "            k_max = int(np.ceil(np.log(1 - nu) / np.log(1 - Pn)))\n",
    "        k += 1\n",
    "\n",
    "    P_mask = np.zeros(len(P), dtype=bool)\n",
    "    for j, i in enumerate(P):\n",
    "        d_i = np.inner(i - g, n) / np.linalg.norm(n)\n",
    "        if (np.abs(d_i) < delta_d):\n",
    "            P_mask[j] = True\n",
    "            Psi_points.append(i)\n",
    "    return n, g, np.array(Psi_points), Q[~Psi], Q_points[~Psi], P[~P_mask], normals[~Psi]\n"
   ],
   "metadata": {
    "collapsed": false,
    "ExecuteTime": {
     "start_time": "2023-04-19T00:39:53.852545Z",
     "end_time": "2023-04-19T00:39:53.894322Z"
    }
   }
  },
  {
   "cell_type": "code",
   "execution_count": null,
   "outputs": [],
   "source": [],
   "metadata": {
    "collapsed": false
   }
  }
 ],
 "metadata": {
  "celltoolbar": "Raw Cell Format",
  "colab": {
   "name": "Untitled2.ipynb",
   "provenance": []
  },
  "kernelspec": {
   "display_name": "Python 3",
   "language": "python",
   "name": "python3"
  },
  "language_info": {
   "codemirror_mode": {
    "name": "ipython",
    "version": 2
   },
   "file_extension": ".py",
   "mimetype": "text/x-python",
   "name": "python",
   "nbconvert_exporter": "python",
   "pygments_lexer": "ipython2",
   "version": "2.7.16"
  }
 },
 "nbformat": 4,
 "nbformat_minor": 1
}
